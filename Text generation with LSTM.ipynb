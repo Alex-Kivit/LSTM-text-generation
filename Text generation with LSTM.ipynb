{
 "cells": [
  {
   "cell_type": "code",
   "execution_count": 16,
   "metadata": {},
   "outputs": [
    {
     "name": "stderr",
     "output_type": "stream",
     "text": [
      "Using TensorFlow backend.\n"
     ]
    }
   ],
   "source": [
    "import os\n",
    "import glob\n",
    "import time\n",
    "import random\n",
    "import string\n",
    "import numpy as np\n",
    "from numpy import array\n",
    "from pickle import dump\n",
    "from pickle import load\n",
    "from tkinter import *\n",
    "from tkinter import filedialog\n",
    "from keras.preprocessing.text import Tokenizer\n",
    "from keras.preprocessing.sequence import pad_sequences\n",
    "from keras.utils import to_categorical\n",
    "from keras.models import Sequential\n",
    "from keras.models import load_model\n",
    "from keras.layers import Dense\n",
    "from keras.layers import LSTM\n",
    "from keras.layers import Embedding, Dropout\n",
    "import tensorflow as tf"
   ]
  },
  {
   "cell_type": "code",
   "execution_count": 17,
   "metadata": {},
   "outputs": [
    {
     "name": "stdout",
     "output_type": "stream",
     "text": [
      "1 Physical GPUs, 1 Logical GPUs\n"
     ]
    }
   ],
   "source": [
    "#Configure GPUs for tensorflow\n",
    "gpus = tf.config.experimental.list_physical_devices('GPU')\n",
    "if gpus:\n",
    "    try:\n",
    "        # Restrict TensorFlow to only use the fourth GPU\n",
    "        tf.config.experimental.set_visible_devices(gpus[0], 'GPU')\n",
    "\n",
    "        # Currently, memory growth needs to be the same across GPUs\n",
    "        for gpu in gpus:\n",
    "            tf.config.experimental.set_memory_growth(gpu, True)\n",
    "        logical_gpus = tf.config.experimental.list_logical_devices('GPU')\n",
    "        print(len(gpus), \"Physical GPUs,\", len(logical_gpus), \"Logical GPUs\")\n",
    "    except RuntimeError as e:\n",
    "        # Memory growth must be set before GPUs have been initialized\n",
    "        print(e)"
   ]
  },
  {
   "cell_type": "code",
   "execution_count": 18,
   "metadata": {},
   "outputs": [],
   "source": [
    "def load_doc(filename):\n",
    "    # open the file\n",
    "    file = open(filename, 'r', encoding='latin-1')\n",
    "    # read all text\n",
    "    text = file.read()\n",
    "    # close the file\n",
    "    file.close()\n",
    "    return text"
   ]
  },
  {
   "cell_type": "code",
   "execution_count": 19,
   "metadata": {},
   "outputs": [],
   "source": [
    "# turn a doc into clean tokens\n",
    "def clean_doc(doc):\n",
    "    # replace '--' with a space ' '\n",
    "    doc = doc.replace('--', ' ')\n",
    "    # split into tokens by white space\n",
    "    tokens = doc.split()\n",
    "    # remove punctuation from each token\n",
    "    table = str.maketrans('', '', string.punctuation)\n",
    "    tokens = [w.translate(table) for w in tokens]\n",
    "    # remove remaining tokens that are not alphabetic\n",
    "    tokens = [word for word in tokens if word.isalpha()]\n",
    "    # make lower case\n",
    "    tokens = [word.lower() for word in tokens]\n",
    "    return tokens"
   ]
  },
  {
   "cell_type": "code",
   "execution_count": 20,
   "metadata": {},
   "outputs": [],
   "source": [
    "# save tokens to file, one dialog per line\n",
    "def save_doc(lines, filename):\n",
    "    data = '\\n'.join(lines)\n",
    "    file = open(filename, 'a+')\n",
    "    file.write(data)\n",
    "    file.close()"
   ]
  },
  {
   "cell_type": "code",
   "execution_count": 21,
   "metadata": {},
   "outputs": [],
   "source": [
    "# reduce length of incorrect lines to 11\n",
    "def clean_sequences(sequences):\n",
    "    count=0\n",
    "    incorrect_lines = list()\n",
    "    for i in sequences:\n",
    "        if len(i)>11:\n",
    "            while len(sequences[count])!=11:\n",
    "                sequences[count].pop(-1)\n",
    "        count+=1\n",
    "    return sequences"
   ]
  },
  {
   "cell_type": "code",
   "execution_count": 22,
   "metadata": {},
   "outputs": [],
   "source": [
    "# generate a sequence from a language model\n",
    "def generate_seq(model, tokenizer, seq_length, seed_text, n_words):\n",
    "    result = list()\n",
    "    in_text = seed_text\n",
    "    # generate a fixed number of words\n",
    "    for _ in range(n_words):\n",
    "        # encode the text as integer\n",
    "        encoded = tokenizer.texts_to_sequences([in_text])[0]\n",
    "        # truncate sequences to a fixed length\n",
    "        encoded = pad_sequences([encoded], maxlen=seq_length, truncating='pre')\n",
    "        # predict probabilities for each word\n",
    "        yhat = model.predict_classes(encoded, verbose=0)\n",
    "        # map predicted word index to word\n",
    "        out_word = ''\n",
    "        for word, index in tokenizer.word_index.items():\n",
    "            if index == yhat:\n",
    "                out_word = word\n",
    "                break\n",
    "        # append to input\n",
    "        in_text += ' ' + out_word\n",
    "        result.append(out_word)\n",
    "    return ' '.join(result)"
   ]
  },
  {
   "cell_type": "code",
   "execution_count": 25,
   "metadata": {},
   "outputs": [],
   "source": [
    "def text2sequences(file):\n",
    "\n",
    "    os.chdir(r'C:\\Users\\Aleksander\\Desktop\\4th term\\advanced python\\Text generation with LSTM\\texts')\n",
    "    # load document\n",
    "    doc = load_doc(file)\n",
    "\n",
    "    # clean document\n",
    "    tokens = clean_doc(doc)\n",
    "    print(tokens[:200])\n",
    "    print('Total Tokens: %d' % len(tokens))\n",
    "    print('Unique Tokens: %d' % len(set(tokens)))\n",
    "\n",
    "    # organize into sequences of tokens\n",
    "    length = 10 + 1\n",
    "    sequences = list()\n",
    "    for i in range(length, len(tokens)):\n",
    "        # select sequence of tokens\n",
    "        seq = tokens[i-length:i]\n",
    "        # convert into a line\n",
    "        line = ' '.join(seq)\n",
    "        # store\n",
    "        sequences.append(line)\n",
    "    print('Total Sequences: %d' % len(sequences))\n",
    "    # save sequences to file\n",
    "    os.chdir(home_directory)\n",
    "    save_doc(sequences, 'sequences.txt')"
   ]
  },
  {
   "cell_type": "code",
   "execution_count": 26,
   "metadata": {},
   "outputs": [
    {
     "name": "stdout",
     "output_type": "stream",
     "text": [
      "['call', 'me', 'ishmael', 'some', 'years', 'mind', 'how', 'long', 'little', 'or', 'no', 'money', 'in', 'my', 'purse', 'and', 'nothing', 'particular', 'to', 'interest', 'me', 'on', 'shore', 'i', 'thought', 'i', 'would', 'sail', 'about', 'a', 'little', 'and', 'see', 'the', 'watery', 'part', 'of', 'the', 'world', 'it', 'is', 'a', 'way', 'i', 'have', 'of', 'driving', 'off', 'the', 'spleen', 'and', 'regulating', 'the', 'circulation', 'whenever', 'i', 'find', 'myself', 'growing', 'grim', 'about', 'the', 'mouth', 'whenever', 'it', 'is', 'a', 'damp', 'drizzly', 'november', 'in', 'my', 'soul', 'whenever', 'i', 'find', 'myself', 'involuntarily', 'pausing', 'before', 'coffin', 'warehouses', 'and', 'bringing', 'up', 'the', 'rear', 'of', 'every', 'funeral', 'i', 'meet', 'and', 'especially', 'whenever', 'my', 'hypos', 'get', 'such', 'an', 'upper', 'hand', 'of', 'me', 'that', 'it', 'requires', 'a', 'strong', 'moral', 'principle', 'to', 'prevent', 'me', 'from', 'deliberately', 'stepping', 'into', 'the', 'street', 'and', 'methodically', 'knocking', 'hats', 'i', 'account', 'it', 'high', 'time', 'to', 'get', 'to', 'sea', 'as', 'soon', 'as', 'i', 'can', 'this', 'is', 'my', 'substitute', 'for', 'pistol', 'and', 'ball', 'with', 'a', 'philosophical', 'flourish', 'cato', 'throws', 'himself', 'upon', 'his', 'sword', 'i', 'quietly', 'take', 'to', 'the', 'ship', 'there', 'is', 'nothing', 'surprising', 'in', 'this', 'if', 'they', 'but', 'knew', 'it', 'almost', 'all', 'men', 'in', 'their', 'degree', 'some', 'time', 'or', 'other', 'cherish', 'very', 'nearly', 'the', 'same', 'feelings', 'towards', 'the', 'ocean', 'with', 'me', 'there', 'now', 'is', 'your', 'insular', 'city']\n",
      "Total Tokens: 201182\n",
      "Unique Tokens: 17411\n",
      "Total Sequences: 201171\n",
      "['alice', 'was', 'beginning', 'to', 'get', 'very', 'tired', 'of', 'sitting', 'by', 'her', 'sister', 'on', 'the', 'bank', 'and', 'of', 'having', 'nothing', 'to', 'do', 'once', 'or', 'twice', 'she', 'had', 'peeped', 'into', 'the', 'book', 'her', 'sister', 'was', 'reading', 'but', 'it', 'had', 'no', 'pictures', 'or', 'conversations', 'in', 'it', 'what', 'is', 'the', 'use', 'of', 'a', 'thought', 'alice', 'pictures', 'or', 'so', 'she', 'was', 'considering', 'in', 'her', 'own', 'mind', 'as', 'well', 'as', 'she', 'could', 'for', 'the', 'hot', 'day', 'made', 'her', 'feel', 'very', 'sleepy', 'and', 'stupid', 'whether', 'the', 'pleasure', 'of', 'making', 'a', 'daisychain', 'would', 'be', 'worth', 'the', 'trouble', 'of', 'getting', 'up', 'and', 'picking', 'the', 'daisies', 'when', 'suddenly', 'a', 'white', 'rabbit', 'with', 'pink', 'eyes', 'ran', 'close', 'by', 'her', 'there', 'was', 'nothing', 'so', 'very', 'remarkable', 'in', 'that', 'nor', 'did', 'alice', 'think', 'it', 'so', 'very', 'much', 'out', 'of', 'the', 'way', 'to', 'hear', 'the', 'rabbit', 'say', 'to', 'itself', 'dear', 'oh', 'dear', 'i', 'shall', 'be', 'when', 'she', 'thought', 'it', 'over', 'afterwards', 'it', 'occurred', 'to', 'her', 'that', 'she', 'ought', 'to', 'have', 'wondered', 'at', 'this', 'but', 'at', 'the', 'time', 'it', 'all', 'seemed', 'quite', 'natural', 'but', 'when', 'the', 'rabbit', 'actually', 'took', 'a', 'watch', 'out', 'of', 'its', 'waistcoatpocket', 'and', 'looked', 'at', 'it', 'and', 'then', 'hurried', 'on', 'alice', 'started', 'to', 'her', 'feet', 'for', 'it', 'flashed', 'across', 'her', 'mind', 'that']\n",
      "Total Tokens: 23475\n",
      "Unique Tokens: 2416\n",
      "Total Sequences: 23464\n"
     ]
    }
   ],
   "source": [
    "# remove \"sequences.txt\" if it exists\n",
    "if os.path.exists('sequences.txt'):\n",
    "    os.remove('sequences.txt')\n",
    "\n",
    "home_directory = os.getcwd()\n",
    "    \n",
    "os.chdir(r'C:\\Users\\Aleksander\\Desktop\\4th term\\advanced python\\Text generation with LSTM\\texts')\n",
    "files = glob.glob('*.txt')\n",
    "\n",
    "for file in files:\n",
    "    text2sequences(file)\n",
    "    \n",
    "# load sequences\n",
    "doc = load_doc('sequences.txt')\n",
    "lines = doc.split('\\n')"
   ]
  },
  {
   "cell_type": "code",
   "execution_count": 27,
   "metadata": {},
   "outputs": [],
   "source": [
    "# integer encode sequences of words\n",
    "tokenizer = Tokenizer()\n",
    "tokenizer.fit_on_texts(lines)\n",
    "sequences = tokenizer.texts_to_sequences(lines)"
   ]
  },
  {
   "cell_type": "code",
   "execution_count": 28,
   "metadata": {},
   "outputs": [],
   "source": [
    "# vocabulary size\n",
    "vocab_size = len(tokenizer.word_index) + 1\n",
    "\n",
    "sequences = array(clean_sequences(sequences))\n",
    "X, y = sequences[:,:-1], sequences[:,-1]\n",
    "y = to_categorical(y, num_classes=vocab_size)\n",
    "seq_length = X.shape[1]"
   ]
  },
  {
   "cell_type": "code",
   "execution_count": 29,
   "metadata": {},
   "outputs": [
    {
     "name": "stdout",
     "output_type": "stream",
     "text": [
      "Model: \"sequential_1\"\n",
      "_________________________________________________________________\n",
      "Layer (type)                 Output Shape              Param #   \n",
      "=================================================================\n",
      "embedding_1 (Embedding)      (None, 10, 50)            894100    \n",
      "_________________________________________________________________\n",
      "lstm_1 (LSTM)                (None, 10, 100)           60400     \n",
      "_________________________________________________________________\n",
      "lstm_2 (LSTM)                (None, 100)               80400     \n",
      "_________________________________________________________________\n",
      "dense_1 (Dense)              (None, 100)               10100     \n",
      "_________________________________________________________________\n",
      "dense_2 (Dense)              (None, 17882)             1806082   \n",
      "=================================================================\n",
      "Total params: 2,851,082\n",
      "Trainable params: 2,851,082\n",
      "Non-trainable params: 0\n",
      "_________________________________________________________________\n"
     ]
    },
    {
     "name": "stderr",
     "output_type": "stream",
     "text": [
      "C:\\ProgramData\\Anaconda3\\envs\\tensorflow\\lib\\site-packages\\tensorflow_core\\python\\framework\\indexed_slices.py:433: UserWarning: Converting sparse IndexedSlices to a dense Tensor of unknown shape. This may consume a large amount of memory.\n",
      "  \"Converting sparse IndexedSlices to a dense Tensor of unknown shape. \"\n"
     ]
    },
    {
     "name": "stdout",
     "output_type": "stream",
     "text": [
      "Epoch 1/100\n",
      "224634/224634 [==============================] - 92s 410us/step - loss: 6.9281 - accuracy: 0.0716s - loss: 6.9302 - \n",
      "Epoch 2/100\n",
      "224634/224634 [==============================] - 107s 476us/step - loss: 6.4811 - accuracy: 0.0904\n",
      "Epoch 3/100\n",
      "224634/224634 [==============================] - 116s 517us/step - loss: 6.2542 - accuracy: 0.1039\n",
      "Epoch 4/100\n",
      "224634/224634 [==============================] - 156s 695us/step - loss: 6.0933 - accuracy: 0.1116\n",
      "Epoch 5/100\n",
      "224634/224634 [==============================] - 176s 782us/step - loss: 5.9516 - accuracy: 0.1175 - los\n",
      "Epoch 6/100\n",
      "224634/224634 [==============================] - 190s 844us/step - loss: 5.8160 - accuracy: 0.1220\n",
      "Epoch 7/100\n",
      "224634/224634 [==============================] - 178s 791us/step - loss: 5.6860 - accuracy: 0.1262\n",
      "Epoch 8/100\n",
      "224634/224634 [==============================] - 104s 464us/step - loss: 5.5643 - accuracy: 0.1305\n",
      "Epoch 9/100\n",
      "224634/224634 [==============================] - 92s 409us/step - loss: 5.4487 - accuracy: 0.1338\n",
      "Epoch 10/100\n",
      "224634/224634 [==============================] - 89s 395us/step - loss: 5.3393 - accuracy: 0.1383\n",
      "Epoch 11/100\n",
      "224634/224634 [==============================] - 82s 367us/step - loss: 5.2352 - accuracy: 0.1422\n",
      "Epoch 12/100\n",
      "224634/224634 [==============================] - 88s 390us/step - loss: 5.1351 - accuracy: 0.1455\n",
      "Epoch 13/100\n",
      "224634/224634 [==============================] - 93s 415us/step - loss: 5.0392 - accuracy: 0.1491\n",
      "Epoch 14/100\n",
      "224634/224634 [==============================] - 100s 446us/step - loss: 4.9465 - accuracy: 0.1514\n",
      "Epoch 15/100\n",
      "224634/224634 [==============================] - 89s 397us/step - loss: 4.8593 - accuracy: 0.1562\n",
      "Epoch 16/100\n",
      "224634/224634 [==============================] - 95s 422us/step - loss: 4.7757 - accuracy: 0.1610\n",
      "Epoch 17/100\n",
      "224634/224634 [==============================] - 95s 422us/step - loss: 4.6955 - accuracy: 0.1660\n",
      "Epoch 18/100\n",
      "224634/224634 [==============================] - 98s 435us/step - loss: 4.6197 - accuracy: 0.1709\n",
      "Epoch 19/100\n",
      "224634/224634 [==============================] - 91s 407us/step - loss: 4.5494 - accuracy: 0.1771\n",
      "Epoch 20/100\n",
      "224634/224634 [==============================] - 90s 398us/step - loss: 4.4791 - accuracy: 0.1838\n",
      "Epoch 21/100\n",
      "224634/224634 [==============================] - 80s 358us/step - loss: 4.4156 - accuracy: 0.1900\n",
      "Epoch 22/100\n",
      "224634/224634 [==============================] - 84s 373us/step - loss: 4.3529 - accuracy: 0.1955\n",
      "Epoch 23/100\n",
      "224634/224634 [==============================] - 105s 468us/step - loss: 4.2939 - accuracy: 0.2015\n",
      "Epoch 24/100\n",
      "224634/224634 [==============================] - 126s 559us/step - loss: 4.2346 - accuracy: 0.2078\n",
      "Epoch 25/100\n",
      "224634/224634 [==============================] - 123s 547us/step - loss: 4.1786 - accuracy: 0.2137\n",
      "Epoch 26/100\n",
      "224634/224634 [==============================] - 179s 796us/step - loss: 4.1192 - accuracy: 0.2200\n",
      "Epoch 27/100\n",
      "224634/224634 [==============================] - 161s 716us/step - loss: 4.0668 - accuracy: 0.2256\n",
      "Epoch 28/100\n",
      "224634/224634 [==============================] - 141s 628us/step - loss: 4.0121 - accuracy: 0.2324\n",
      "Epoch 29/100\n",
      "224634/224634 [==============================] - 122s 544us/step - loss: 3.9557 - accuracy: 0.2390\n",
      "Epoch 30/100\n",
      "224634/224634 [==============================] - 100s 444us/step - loss: 3.9048 - accuracy: 0.2446\n",
      "Epoch 31/100\n",
      "224634/224634 [==============================] - 87s 389us/step - loss: 3.8545 - accuracy: 0.2506\n",
      "Epoch 32/100\n",
      "224634/224634 [==============================] - 84s 373us/step - loss: 3.8050 - accuracy: 0.2568\n",
      "Epoch 33/100\n",
      "224634/224634 [==============================] - 89s 396us/step - loss: 3.7553 - accuracy: 0.2636\n",
      "Epoch 34/100\n",
      "224634/224634 [==============================] - 127s 565us/step - loss: 3.7080 - accuracy: 0.2693\n",
      "Epoch 35/100\n",
      "224634/224634 [==============================] - 105s 467us/step - loss: 3.6600 - accuracy: 0.2753\n",
      "Epoch 36/100\n",
      "224634/224634 [==============================] - 84s 376us/step - loss: 3.6141 - accuracy: 0.2821\n",
      "Epoch 37/100\n",
      "224634/224634 [==============================] - 94s 418us/step - loss: 3.5713 - accuracy: 0.2878\n",
      "Epoch 38/100\n",
      "224634/224634 [==============================] - 92s 411us/step - loss: 3.5267 - accuracy: 0.2942\n",
      "Epoch 39/100\n",
      "224634/224634 [==============================] - 100s 444us/step - loss: 3.4846 - accuracy: 0.2998\n",
      "Epoch 40/100\n",
      "224634/224634 [==============================] - 103s 459us/step - loss: 3.4420 - accuracy: 0.3056\n",
      "Epoch 41/100\n",
      "224634/224634 [==============================] - 100s 444us/step - loss: 3.4010 - accuracy: 0.3120\n",
      "Epoch 42/100\n",
      "224634/224634 [==============================] - 93s 413us/step - loss: 3.3586 - accuracy: 0.3179\n",
      "Epoch 43/100\n",
      "224634/224634 [==============================] - 84s 372us/step - loss: 3.3168 - accuracy: 0.3233\n",
      "Epoch 44/100\n",
      "224634/224634 [==============================] - 75s 336us/step - loss: 3.2757 - accuracy: 0.3295\n",
      "Epoch 45/100\n",
      "224634/224634 [==============================] - 89s 397us/step - loss: 3.2366 - accuracy: 0.3350\n",
      "Epoch 46/100\n",
      "224634/224634 [==============================] - 87s 388us/step - loss: 3.1977 - accuracy: 0.3412\n",
      "Epoch 47/100\n",
      "224634/224634 [==============================] - 85s 376us/step - loss: 3.1596 - accuracy: 0.3476\n",
      "Epoch 48/100\n",
      "224634/224634 [==============================] - 84s 374us/step - loss: 3.1210 - accuracy: 0.3529\n",
      "Epoch 49/100\n",
      "224634/224634 [==============================] - 86s 383us/step - loss: 3.0874 - accuracy: 0.3583\n",
      "Epoch 50/100\n",
      "224634/224634 [==============================] - 85s 380us/step - loss: 3.0482 - accuracy: 0.3643\n",
      "Epoch 51/100\n",
      "224634/224634 [==============================] - 76s 339us/step - loss: 3.0135 - accuracy: 0.3696\n",
      "Epoch 52/100\n",
      "224634/224634 [==============================] - 77s 345us/step - loss: 2.9775 - accuracy: 0.3753\n",
      "Epoch 53/100\n",
      "224634/224634 [==============================] - 93s 414us/step - loss: 2.9483 - accuracy: 0.3809\n",
      "Epoch 54/100\n",
      "224634/224634 [==============================] - 84s 376us/step - loss: 2.9124 - accuracy: 0.3859\n",
      "Epoch 55/100\n",
      "224634/224634 [==============================] - 85s 378us/step - loss: 2.8804 - accuracy: 0.3921\n",
      "Epoch 56/100\n",
      "224634/224634 [==============================] - 84s 375us/step - loss: 2.8458 - accuracy: 0.3969\n",
      "Epoch 57/100\n",
      "224634/224634 [==============================] - 84s 373us/step - loss: 2.8138 - accuracy: 0.4032\n",
      "Epoch 58/100\n",
      "224634/224634 [==============================] - 78s 348us/step - loss: 2.7860 - accuracy: 0.4070\n",
      "Epoch 59/100\n",
      "224634/224634 [==============================] - 83s 370us/step - loss: 2.7531 - accuracy: 0.4116\n",
      "Epoch 60/100\n",
      "224634/224634 [==============================] - 85s 379us/step - loss: 2.7257 - accuracy: 0.4173\n",
      "Epoch 61/100\n",
      "224634/224634 [==============================] - 81s 359us/step - loss: 2.6953 - accuracy: 0.4238\n",
      "Epoch 62/100\n",
      "224634/224634 [==============================] - 75s 332us/step - loss: 2.6641 - accuracy: 0.4283s - loss: 2.6596 -  -\n",
      "Epoch 63/100\n",
      "224634/224634 [==============================] - 82s 367us/step - loss: 2.6322 - accuracy: 0.4336\n",
      "Epoch 64/100\n",
      "224634/224634 [==============================] - 81s 362us/step - loss: 2.6096 - accuracy: 0.4375\n",
      "Epoch 65/100\n",
      "224634/224634 [==============================] - 76s 337us/step - loss: 2.5722 - accuracy: 0.4435\n",
      "Epoch 66/100\n",
      "224634/224634 [==============================] - 86s 381us/step - loss: 2.5491 - accuracy: 0.4482\n",
      "Epoch 67/100\n",
      "224634/224634 [==============================] - 87s 388us/step - loss: 2.5186 - accuracy: 0.4532\n",
      "Epoch 68/100\n",
      "224634/224634 [==============================] - 84s 374us/step - loss: 2.4942 - accuracy: 0.4573\n",
      "Epoch 69/100\n",
      "224634/224634 [==============================] - 81s 362us/step - loss: 2.4681 - accuracy: 0.4623\n",
      "Epoch 70/100\n",
      "224634/224634 [==============================] - 91s 405us/step - loss: 2.4422 - accuracy: 0.4668\n",
      "Epoch 71/100\n",
      "224634/224634 [==============================] - 89s 397us/step - loss: 2.4135 - accuracy: 0.4726\n",
      "Epoch 72/100\n",
      "224634/224634 [==============================] - 86s 381us/step - loss: 2.3915 - accuracy: 0.4757\n",
      "Epoch 73/100\n",
      "224634/224634 [==============================] - 94s 419us/step - loss: 2.3674 - accuracy: 0.4810\n",
      "Epoch 74/100\n"
     ]
    },
    {
     "name": "stdout",
     "output_type": "stream",
     "text": [
      "224634/224634 [==============================] - 88s 391us/step - loss: 2.3387 - accuracy: 0.4847\n",
      "Epoch 75/100\n",
      "224634/224634 [==============================] - 85s 380us/step - loss: 2.3139 - accuracy: 0.4899\n",
      "Epoch 76/100\n",
      "224634/224634 [==============================] - 85s 378us/step - loss: 2.2925 - accuracy: 0.4945\n",
      "Epoch 77/100\n",
      "224634/224634 [==============================] - 86s 384us/step - loss: 2.2684 - accuracy: 0.4991\n",
      "Epoch 78/100\n",
      "224634/224634 [==============================] - 86s 382us/step - loss: 2.2481 - accuracy: 0.5017\n",
      "Epoch 79/100\n",
      "224634/224634 [==============================] - 82s 366us/step - loss: 2.2277 - accuracy: 0.5066\n",
      "Epoch 80/100\n",
      "224634/224634 [==============================] - 67s 300us/step - loss: 2.2043 - accuracy: 0.5115\n",
      "Epoch 81/100\n",
      "224634/224634 [==============================] - 293s 1ms/step - loss: 2.1795 - accuracy: 0.5151\n",
      "Epoch 82/100\n",
      "224634/224634 [==============================] - 150s 666us/step - loss: 2.1608 - accuracy: 0.5192\n",
      "Epoch 83/100\n",
      "224634/224634 [==============================] - 104s 461us/step - loss: 2.1486 - accuracy: 0.5217\n",
      "Epoch 84/100\n",
      "224634/224634 [==============================] - 84s 373us/step - loss: 2.1218 - accuracy: 0.5261\n",
      "Epoch 85/100\n",
      "224634/224634 [==============================] - 90s 399us/step - loss: 2.1041 - accuracy: 0.5296\n",
      "Epoch 86/100\n",
      "224634/224634 [==============================] - 87s 388us/step - loss: 2.0860 - accuracy: 0.5336\n",
      "Epoch 87/100\n",
      "224634/224634 [==============================] - 99s 439us/step - loss: 2.0678 - accuracy: 0.5372\n",
      "Epoch 88/100\n",
      "224634/224634 [==============================] - 93s 412us/step - loss: 2.0482 - accuracy: 0.5401\n",
      "Epoch 89/100\n",
      "224634/224634 [==============================] - 86s 382us/step - loss: 2.0331 - accuracy: 0.5419\n",
      "Epoch 90/100\n",
      "224634/224634 [==============================] - 78s 349us/step - loss: 2.0121 - accuracy: 0.5473\n",
      "Epoch 91/100\n",
      "224634/224634 [==============================] - 80s 356us/step - loss: 1.9968 - accuracy: 0.5501\n",
      "Epoch 92/100\n",
      "224634/224634 [==============================] - 90s 399us/step - loss: 1.9821 - accuracy: 0.5529\n",
      "Epoch 93/100\n",
      "224634/224634 [==============================] - 91s 406us/step - loss: 1.9622 - accuracy: 0.5572\n",
      "Epoch 94/100\n",
      "224634/224634 [==============================] - 87s 388us/step - loss: 1.9487 - accuracy: 0.5591\n",
      "Epoch 95/100\n",
      "224634/224634 [==============================] - 77s 344us/step - loss: 1.9316 - accuracy: 0.5631\n",
      "Epoch 96/100\n",
      "224634/224634 [==============================] - 103s 460us/step - loss: 1.9181 - accuracy: 0.5650\n",
      "Epoch 97/100\n",
      "224634/224634 [==============================] - 96s 429us/step - loss: 1.9021 - accuracy: 0.5686\n",
      "Epoch 98/100\n",
      "224634/224634 [==============================] - 101s 447us/step - loss: 1.8880 - accuracy: 0.5715\n",
      "Epoch 99/100\n",
      "224634/224634 [==============================] - 102s 452us/step - loss: 1.8728 - accuracy: 0.5739\n",
      "Epoch 100/100\n",
      "224634/224634 [==============================] - 99s 442us/step - loss: 1.8602 - accuracy: 0.5770\n"
     ]
    }
   ],
   "source": [
    "# define and train the model\n",
    "model = Sequential()\n",
    "model.add(Embedding(vocab_size, 50, input_length=seq_length))\n",
    "model.add(LSTM(100, return_sequences=True))\n",
    "model.add(LSTM(100))\n",
    "model.add(Dense(100, activation='relu'))\n",
    "model.add(Dense(vocab_size, activation='softmax'))\n",
    "\n",
    "model.summary()\n",
    "model.compile(loss='categorical_crossentropy', optimizer='adam', metrics=['accuracy'])\n",
    "model.fit(X, y, batch_size=128, epochs=100)\n",
    "\n",
    "model.save('model.h5')\n",
    "dump(tokenizer, open('tokenizer.pkl', 'wb'))"
   ]
  },
  {
   "cell_type": "code",
   "execution_count": 30,
   "metadata": {},
   "outputs": [
    {
     "name": "stderr",
     "output_type": "stream",
     "text": [
      "C:\\ProgramData\\Anaconda3\\envs\\tensorflow\\lib\\site-packages\\tensorflow_core\\python\\framework\\indexed_slices.py:433: UserWarning: Converting sparse IndexedSlices to a dense Tensor of unknown shape. This may consume a large amount of memory.\n",
      "  \"Converting sparse IndexedSlices to a dense Tensor of unknown shape. \"\n"
     ]
    }
   ],
   "source": [
    "# load cleaned text sequences\n",
    "doc = load_doc('sequences.txt')\n",
    "lines = doc.split('\\n')\n",
    "seq_length = len(lines[0].split()) - 1\n",
    "\n",
    "model = load_model('model.h5')\n",
    "tokenizer = load(open('tokenizer.pkl', 'rb'))"
   ]
  },
  {
   "cell_type": "code",
   "execution_count": 31,
   "metadata": {},
   "outputs": [
    {
     "name": "stdout",
     "output_type": "stream",
     "text": [
      "seldom displays the back and more especially his flanks effaced in\n",
      "\n"
     ]
    }
   ],
   "source": [
    "# get random \"seed\" sequence\n",
    "seed_text = lines[random.randint(0,len(lines))]\n",
    "print(seed_text + '\\n')"
   ]
  },
  {
   "cell_type": "code",
   "execution_count": 32,
   "metadata": {},
   "outputs": [
    {
     "name": "stdout",
     "output_type": "stream",
     "text": [
      "great tubs and from the replacing of the blinds part of the harem dash into the wall where for inflexible in hook how then the sunset stars i light are reasonable to them their hearts with some subtle and glorious lay had been continued to leave out of consternations and\n"
     ]
    }
   ],
   "source": [
    "# generate text\n",
    "generated = generate_seq(model, tokenizer, seq_length, seed_text, 50)\n",
    "print(generated)"
   ]
  }
 ],
 "metadata": {
  "kernelspec": {
   "display_name": "Python 3.8 (tensorflow)",
   "language": "python",
   "name": "tensorflow"
  },
  "language_info": {
   "codemirror_mode": {
    "name": "ipython",
    "version": 3
   },
   "file_extension": ".py",
   "mimetype": "text/x-python",
   "name": "python",
   "nbconvert_exporter": "python",
   "pygments_lexer": "ipython3",
   "version": "3.7.7"
  }
 },
 "nbformat": 4,
 "nbformat_minor": 2
}
